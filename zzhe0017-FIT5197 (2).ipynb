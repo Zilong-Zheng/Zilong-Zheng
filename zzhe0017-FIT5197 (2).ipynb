{
 "cells": [
  {
   "cell_type": "markdown",
   "metadata": {},
   "source": [
    "<h1>FIT5197 Assignment 2</h1>\n",
    "\n",
    "<h2>Instructions</h2>\n",
    "To complete this assignment, you will need to fill in several of the cells in the below notebook. Please make sure to follow all the instructions given in this assignment carefully and completely.\n",
    "\n",
    "<h2>Important Notes</h2>\n",
    "\n",
    " - For questions which require code, please make sure to put your code into the cell provided. You should not have to create any new cells to complete this assignment\n",
    "\n",
    " - For questions which require written answers (i.e. questions that don't require code, and which do not explicitly state otherwise in the question), you may either write your answers by hand, scan them in as photos and embed those photos into your Jupyter notebook, or alternatively you can use Markdown to write your answers in the cells directly. We recommend the second method if you would like to learn Markdown and LaTeX (both of which are useful skills), but we do not require this.\n",
    " \n",
    " - Make sure you submit to Moodle a completed Jupyter Notebook .ipynb file and a .pdf file of the notebook (using ‘Print’ in Google Chrome with ‘destination’ set to ‘save as PDF’ should work).\n",
    " \n",
    " - Late submission: Late submissions will have a penalty of 5% per day, including weekends and public holidays.\n",
    " \n",
    " - Zip file submission: Zip file submission will have a penalty of 10%.\n",
    "\n",
    "<h2>Additional Marks</h2>\n",
    "There are a couple of criteria which relate to the assignment as a whole. The criteria in this section are not bonus marks, but instead directly count towards the total marks for the assignment.\n",
    "\n",
    "<h3>Elegance of Graphics (2 marks)</h3>\n",
    "To ensure your graphics are of a high enough quality to receive the marks for elegance of graphics, please do one of the following:\n",
    "* Generate your graphs using R (where R code is required by the question) or some computer system such as Excel, R, Python, etc. (where R code is not required by the question), <b>OR</b>\n",
    "* Draw your graphs by hand, very neatly and with a ruler\n",
    "\n",
    "<h3>Code Quality (3 marks)</h3>\n",
    "To ensure your code is of a high enough quality to receive the marks for code quality, please ensure the following conditions are met:\n",
    "* Your code does not take too long to run (if a cell takes more than a minute to run, it takes too long UNLESS OTHERWISE NOTED)\n",
    "* No trivial optimisations are missing from the code - we don't expect perfection but if something is blatantly written in a very sub-optimal way we might dock code quality marks for this\n",
    "\n",
    "<h2>Bonus Marks</h2>\n",
    "For this assignment, there are several bonus marks available\n",
    "\n",
    "<h3>Use of Markdown/LaTeX (2 marks)</h3>\n",
    "Although we do not require that you use Markdown/LaTeX for this assignment, we have assigned 2 bonus marks to encourage you to try this. Markdown/LaTeX is a great skill to have up your sleeve when you're working on maths or trying to share your work with other people.\n",
    "To receive one bonus mark, you must use Markdown/LaTeX for a majority of the questions in this assignment (at least 3). To receive two bonus marks, you must use Markdown/LaTeX for all of the questions in this assignment, where appropriate (i.e. except when code is required instead, of course).\n",
    "\n",
    "You can see some documentation and examples for Jupyter's markdown and LaTeX system at the following links:\n",
    "\n",
    "https://jupyter-notebook.readthedocs.io/en/stable/examples/Notebook/Working%20With%20Markdown%20Cells.html\n",
    "https://jupyter-notebook.readthedocs.io/en/stable/examples/Notebook/Typesetting%20Equations.html\n"
   ]
  },
  {
   "cell_type": "markdown",
   "metadata": {
    "deletable": false,
    "editable": false,
    "nbgrader": {
     "checksum": "4513fb6b1fe3b7c4a604026c1ed64f08",
     "grade": false,
     "grade_id": "cell-b91a256fb67ef513",
     "locked": true,
     "schema_version": 1,
     "solution": false
    }
   },
   "source": [
    "<h2>Question 0 - Hello World!</h2>\n",
    "\n",
    "We've included a little \"Hello World!\" example. There will be an accompanying video on Moodle (the link will be posted on the forum as an announcement) which you can follow to learn how to use this Jupyter Notebook.\n",
    "\n",
    "<b>Even if you've used Jupyter before, it's highly recommended that you watch the video and go through this introductory exercise, because this assignment uses auto-marking and requires you to follow a certain (straightforward) convention.</b>"
   ]
  },
  {
   "cell_type": "markdown",
   "metadata": {
    "deletable": false,
    "editable": false,
    "nbgrader": {
     "checksum": "509814f9cb3185038c0b2d9e167c7fad",
     "grade": false,
     "grade_id": "cell-62f6faef68ba895b",
     "locked": true,
     "schema_version": 1,
     "solution": false
    }
   },
   "source": [
    "<h2>Question 0.a - Saying Hello in Markdown</h2>\n",
    "\n",
    "For this assignment, you will need to answer the questions in the \"cells\" below each question. Some questions will require written work (which you can either do on paper and scan, or do in the cell using Markdown), and some will require R code (which you must do using R code in the provided cells).\n",
    "\n",
    "Watch through the video to see how this should be done."
   ]
  },
  {
   "cell_type": "markdown",
   "metadata": {
    "deletable": false,
    "nbgrader": {
     "checksum": "de800713485ee6203cfbfed1f40a8f6d",
     "grade": true,
     "grade_id": "cell-bcbf069f6a667726",
     "locked": false,
     "points": 0,
     "schema_version": 1,
     "solution": true
    }
   },
   "source": [
    "YOUR ANSWER HERE"
   ]
  },
  {
   "cell_type": "markdown",
   "metadata": {},
   "source": [
    "<h2>Question 0.b - Saying Hello in R</h2>\n",
    "\n",
    "You will need to write some R code in this assignment. In this section, save a variable called \"hello.world\" (don't include the quotes in the variable name) and set it to the value \"Hello World!\". Then run the cell below the one you wrote your code in to verify that your answers have been registered and given the correct variable names.\n",
    "\n",
    "Like before, follow the video tutorial to see how this is done."
   ]
  },
  {
   "cell_type": "code",
   "execution_count": 4,
   "metadata": {
    "deletable": false,
    "nbgrader": {
     "checksum": "d4692e7a8e334fe96e75631726549cb7",
     "grade": false,
     "grade_id": "cell-0195e9cdcda71eb5",
     "locked": false,
     "schema_version": 1,
     "solution": true
    }
   },
   "outputs": [],
   "source": [
    "# your code here\n",
    "hello.world<-'Hello World!'"
   ]
  },
  {
   "cell_type": "code",
   "execution_count": 5,
   "metadata": {},
   "outputs": [
    {
     "name": "stdout",
     "output_type": "stream",
     "text": [
      "[1] \"Hello World!\"\n"
     ]
    }
   ],
   "source": [
    "if (hello.world != \"Hello World!\") {\n",
    "    print(\"Something went wrong, as hello.world's value is not correct!\")\n",
    "} else {\n",
    "    print(hello.world)\n",
    "}"
   ]
  },
  {
   "cell_type": "markdown",
   "metadata": {},
   "source": [
    "<h2>Question 1 - Probabilities</h2>\n",
    "\n",
    "Suppose we are playing a simple collectable card game (e.g. like Hearthstone, or Magic the Gathering). In this game, each player has a card deck which contains 30 cards (with no duplicate cards). At the start of this game, both players shuffle their decks. Then the player going first draws five cards, and the player going second draws six cards. After this, the game starts, and players alternate turns.\n",
    "\n",
    "Each player draws an additional card at the start of their turn. So, for example, after their third turn player one should have drawn eight cards in total (the 5 cards they started with, plus another three cards over three turns). Player two should have drawn nine cards in total after their third turn.\n",
    "\n",
    "For the following questions, suppose there is a special combination of five cards, and if you have those five cards in your hand you instantly win the game.\n",
    "\n",
    "<h3>A bit of help</h3>\n",
    "As a little hint for some of the questions below, you're reminded that if you have some product $n \\times (n-1) \\times (n-2) \\times ... \\times (n-k)$, we can express this as $n!/(n-k-1)!$. That is,\n",
    "\n",
    "\\begin{align}\n",
    "n (n-1) (n-2) (n-3) ... (n-k) = \\frac{n!}{(n-k-1)!}\n",
    "\\end{align}\n",
    "\n",
    "This is because we can think of the product $n \\times (n-1) \\times (n-2) \\times ... \\times (n-k)$ to be $n!$, which is $n \\times (n-1) \\times (n-2) \\times ... \\times 2 \\times 1$, but with the last (n-k-1) parts removed. Because this is a  multiplication of terms, we can think of removing terms as the same as dividing by them, meaning that\n",
    "\n",
    "$$\n",
    "n \\times (n-1) \\times (n-2) \\times ... \\times (n-k) = \\frac{n \\times (n-1) \\times (n-2) \\times ... \\times 2 \\times 1}{(n-k-1)(n-k-2)...(2)(1)} = \\frac{n!}{(n-k-1)!}\n",
    "$$"
   ]
  },
  {
   "cell_type": "markdown",
   "metadata": {},
   "source": [
    "<h2>Question 1.a</h2>\n",
    "What is the probability that the first player will draw this combination on their first turn and win the game immediately? What about the second player?\n",
    "\n",
    "<u>Please give your answers as a fraction</u>"
   ]
  },
  {
   "cell_type": "markdown",
   "metadata": {
    "deletable": false,
    "nbgrader": {
     "checksum": "d754b8f4f599771c92502469890f461b",
     "grade": true,
     "grade_id": "cell-236c073aa0d8133c",
     "locked": false,
     "points": 3,
     "schema_version": 1,
     "solution": true
    }
   },
   "source": [
    "YOUR ANSWER HERE \n",
    "\n",
    "we assume the player win the game on their first turn and they do not draw card(the first player drow 5 cards, the second player draw 6 cards). the number of first player draw the combination is $\\binom{5}{5}$, The total number of possible draws is$\\binom{30}{5}$. the number of second player draw the combination is $\\binom{5}{5}\\times\\binom{25}{1}$, the total number of possible draws is$\\binom{30}{6}$\n",
    "\\begin{align} P(\\text{the first player win}) = \\frac{\\binom{5}{5}}{\\binom{30}{5}} \\end{align}\n",
    "\n",
    "\\begin{align}p(\\text{the second player win}) = \\frac{\\binom{5}{5}*\\binom{25}{1}}{\\binom{30}{6}}\\end{align}"
   ]
  },
  {
   "cell_type": "markdown",
   "metadata": {},
   "source": [
    "<h2>Question 1.b</h2>\n",
    "What is the probability that the five cards required for victory are all at the bottom of a player's deck (i.e. they are the last five cards in their deck)?\n",
    "\n",
    "<u>Please give your answer as a fraction</u>"
   ]
  },
  {
   "cell_type": "markdown",
   "metadata": {
    "deletable": false,
    "nbgrader": {
     "checksum": "18c3b75660e36374337dc01661985904",
     "grade": true,
     "grade_id": "cell-bb15cd9768c0b75a",
     "locked": false,
     "points": 2,
     "schema_version": 1,
     "solution": true
    }
   },
   "source": [
    "YOUR ANSWER HERE \n",
    "\n",
    "there are $25!$ sorts of 25 cards in order, the last five card has $5!$ way to sort them, and the total way of five cards at the bottom of deck is $25!\\times5!$. there are $30!$ sorts of 30 cards in order.\n",
    "\\begin{align} P(\\text{the five cards at the bottom of the deck}) = \\frac{25!*5!}{30!} \\end{align}"
   ]
  },
  {
   "cell_type": "markdown",
   "metadata": {},
   "source": [
    "<h2>Question 1.c</h2>\n",
    "Suppose a player has drawn 15 cards from their deck. What is the probability that all of the cards in the winning combination are still in their deck?\n",
    "\n",
    "<u>Please give your answer as a fraction</u>"
   ]
  },
  {
   "cell_type": "markdown",
   "metadata": {
    "deletable": false,
    "nbgrader": {
     "checksum": "9b914d5ad586f65c82edaaf58d6f10ee",
     "grade": true,
     "grade_id": "cell-36f62b0ff5e2173a",
     "locked": false,
     "points": 2,
     "schema_version": 1,
     "solution": true
    }
   },
   "source": [
    "YOUR ANSWER HERE \n",
    "\n",
    "there are $\\binom{25}{15}$ ways to draw 15 cards from 25 cards, there are $\\binom{30}{15}$ ways to draw 15 cards from 30 cards.\n",
    "\\begin{align} P(\\text{the winning cards still in deck}) = \\frac{\\binom{25}{15}}{\\binom{30}{15}} \\end{align}"
   ]
  },
  {
   "cell_type": "markdown",
   "metadata": {},
   "source": [
    "<h2>Question 1.d</h2>\n",
    "Suppose a player has drawn $n$ cards from their deck, where $n$ is between 0 and 30. What is the probability that <b>all</b> of the cards in the winning combination is still in their deck (i.e. that they have not drawn any piece of the winning combination yet) <b>in terms of $n$</b>?\n",
    "\n",
    "You might like to verify your previous answers with your formula, but this is not required."
   ]
  },
  {
   "cell_type": "markdown",
   "metadata": {
    "deletable": false,
    "nbgrader": {
     "checksum": "656bb718b8f7b13a71c60ddf139e573c",
     "grade": true,
     "grade_id": "cell-e81763991220d5bb",
     "locked": false,
     "points": 3,
     "schema_version": 1,
     "solution": true
    }
   },
   "source": [
    "YOUR ANSWER HERE  \n",
    "\n",
    "there are $\\binom{25}{n}$ ways to draw 15 cards from 25 cards, there are $\\binom{30}{n}$ ways to draw 15 cards from 30 cards.\n",
    "\\begin{align} P(\\text{the winning cards still in deck}) = \\begin{cases}\\frac{\\binom{25}{n}}{\\binom{30}{n}} & 0 \\leq x \\leq 30 \\\\ 0 & \\text{otherwise} \\end{cases}\\end{align}"
   ]
  },
  {
   "cell_type": "markdown",
   "metadata": {},
   "source": [
    "<h2>Question 2 - PDFs and Expectations</h2>\n",
    "Suppose we have defined a probability density function for a random variable $X$ as follows:\n",
    "\n",
    "\\begin{align}\n",
    "p(x) =\n",
    "\\begin{cases}\n",
    " c x^2 & 0 \\leq x \\leq \\alpha \\\\\n",
    " 0 & \\text{otherwise}\n",
    "\\end{cases}\n",
    "\\end{align}\n",
    "\n",
    "Notice that our PDF has two constants, $c$ and $\\alpha$. $\\alpha$ is a parameter, and $c$ is a coefficient which we will carefully choose so the integral of $c x^2$ between $0$ and $\\alpha$ (with respect to $x$) is equal to $1$."
   ]
  },
  {
   "cell_type": "code",
   "execution_count": 1,
   "metadata": {},
   "outputs": [
    {
     "data": {
      "image/png": "[encoded data removed]",
      "text/plain": [
       "Plot with title \"alpha=2, c=2\""
      ]
     },
     "metadata": {},
     "output_type": "display_data"
    }
   ],
   "source": [
    "library(repr)\n",
    "\n",
    "# You can change the values of alpha and c if you would like to experiment\n",
    "alpha = 2\n",
    "c = 2\n",
    "\n",
    "# Don't edit the code below here (unless you want to play around with it)\n",
    "x <- seq(0, alpha, 0.01)\n",
    "\n",
    "# Reference: https://blog.revolutionanalytics.com/2015/09/resizing-plots-in-the-r-kernel-for-jupyter-notebooks.html\n",
    "options(repr.plot.width=5, repr.plot.height=3)\n",
    "\n",
    "plot(\n",
    "    x,\n",
    "    c * x^2,\n",
    "    \"l\",\n",
    "    main=sprintf(\"alpha=%s, c=%s\", alpha, c),\n",
    "    xlab=\"x\",\n",
    "    ylab=\"p(x)\"\n",
    ")"
   ]
  },
  {
   "cell_type": "markdown",
   "metadata": {},
   "source": [
    "<h2>Question 2.a</h2>\n",
    "Suppose $\\alpha = 1$. Find the value of $c$ which would cause the integral of $p(x)$ from 0 to $\\alpha$ with respect to x to be equal to $1$. That is, find $c$ such that\n",
    "\n",
    "\\begin{align}\n",
    "\\int_0^1 c x^2 dx = 1\n",
    "\\end{align}"
   ]
  },
  {
   "cell_type": "markdown",
   "metadata": {
    "deletable": false,
    "nbgrader": {
     "checksum": "f50ccacc0e787257f5eb432769be5ef5",
     "grade": true,
     "grade_id": "cell-929e7904b6927b8c",
     "locked": false,
     "points": 2,
     "schema_version": 1,
     "solution": true
    }
   },
   "source": [
    "YOUR ANSWER HERE $$\\left.\\frac{cx^3}{3}\\right|_0^1 = 1$$\n",
    "\n",
    "$$\\frac{c}{3} = 1$$\n",
    "\n",
    "$$c = 3$$"
   ]
  },
  {
   "cell_type": "markdown",
   "metadata": {},
   "source": [
    "<h2>Question 2.b</h2>\n",
    "Find the value of $c$ for a general value of $\\alpha$ (you can do this in a way similar to how you answered question 2.a). That is, find $c$ such that\n",
    "\n",
    "\\begin{align}\n",
    "\\int_0^\\alpha c x^2 dx = 1\n",
    "\\end{align}"
   ]
  },
  {
   "cell_type": "markdown",
   "metadata": {
    "deletable": false,
    "nbgrader": {
     "checksum": "26f0d454a2cf68987e550442a5fa985d",
     "grade": true,
     "grade_id": "cell-f63a5264d273dff7",
     "locked": false,
     "points": 2,
     "schema_version": 1,
     "solution": true
    }
   },
   "source": [
    "YOUR ANSWER HERE $$\\left.\\frac{cx^3}{3}\\right|_0^a = 1$$\n",
    "\n",
    "$$\\frac{c a ^ 3}{3}-0 = 1$$\n",
    "\n",
    "$$\\frac{ca^3}{3} = 1$$\n",
    "\n",
    "$$c = \\frac{3}{a^3}$$"
   ]
  },
  {
   "cell_type": "markdown",
   "metadata": {},
   "source": [
    "<h2>Question 2.c</h2>\n",
    "Suppose $c$ = 3 and $\\alpha$ = 1. Find $E(X)$, the expected value of our variable $X$."
   ]
  },
  {
   "cell_type": "markdown",
   "metadata": {
    "deletable": false,
    "nbgrader": {
     "checksum": "5acd0435a584b757e9034f6a7d024e67",
     "grade": true,
     "grade_id": "cell-9a6c1a35020ebd22",
     "locked": false,
     "points": 3,
     "schema_version": 1,
     "solution": true
    }
   },
   "source": [
    "YOUR ANSWER HERE $$E(x) = \\int_0^1 x 3 x^2 dx = \\left.\\frac{3x^4}{4}\\right|_0^1 = \\frac{3}{4}\\times1^4-0 = \\frac{3}{4}$$"
   ]
  },
  {
   "cell_type": "markdown",
   "metadata": {},
   "source": [
    "<h2>Question 2.d</h2>\n",
    "Suppose $c$ = 3 and $\\alpha$ = 1. Find $Var(X)$, the variance of our variable $X$."
   ]
  },
  {
   "cell_type": "markdown",
   "metadata": {
    "deletable": false,
    "nbgrader": {
     "checksum": "6d047efcebc0169c6a8010551c8e2c20",
     "grade": true,
     "grade_id": "cell-d23fa9b4ca1090cb",
     "locked": false,
     "points": 3,
     "schema_version": 1,
     "solution": true
    }
   },
   "source": [
    "YOUR ANSWER HERE $$Var(x) = E(x^2) - (E(x))^2 = \\int_0^1x^2 3 x^2 dx - (\\frac{3}{4})^2 = \\left.\\frac{3x^5}{5}dx\\right|_0^1 - (\\frac{3}{4})^2 = \\frac{3}{5} - (\\frac{3}{5})^2 = \\frac{3}{80}$$"
   ]
  },
  {
   "cell_type": "markdown",
   "metadata": {},
   "source": [
    "<h2>Question 3 - Distributions</h2>\n",
    "Suppose we are given the following information:\n",
    "\n",
    "* You are modelling the number of people visiting a particular doctor's office within a day, with the hope of identifying a disease outbreak in the local area of the doctor\n",
    "\n",
    "* It is known that, <b>on an average day</b>, 30 patients will see this doctor, with a <b>standard deviation</b> of 3 patients per day"
   ]
  },
  {
   "cell_type": "markdown",
   "metadata": {},
   "source": [
    "<h2>Question 3.a</h2>\n",
    "Describe a model you might use to model the number of patients on a given day (there might be more than one choice, so pick one and justify it). Also give the parameters of this model based on the given information."
   ]
  },
  {
   "cell_type": "markdown",
   "metadata": {
    "deletable": false,
    "nbgrader": {
     "checksum": "47678b38afcc15f77b21a9ac25a27742",
     "grade": true,
     "grade_id": "cell-f999cd40dd0ef2c5",
     "locked": false,
     "points": 2,
     "schema_version": 1,
     "solution": true
    }
   },
   "source": [
    "YOUR ANSWER HERE \n",
    "\n",
    "Binomial Distribution, because the number of patient is not continue, and for each patient has two probility(go to hospital, do not go to hospital)\n",
    "$$p(\\left.x\\right|n, \\theta) = \\binom{n}{x}\\theta^x(1-\\theta)^{n-x}$$"
   ]
  },
  {
   "cell_type": "markdown",
   "metadata": {},
   "source": [
    "<h2>Question 3.b</h2>\n",
    "On one particular day, 45 patients visit the doctor. Considering the model you developed in your answer to the previous question, do you think that this number of patients in a given day is cause for alarm? Use calculations to back up your answer by determining the probability of seeing 45 or more patients in a given day."
   ]
  },
  {
   "cell_type": "markdown",
   "metadata": {
    "deletable": false,
    "nbgrader": {
     "checksum": "5beda33c748c94c26f6b8bd26181dcc3",
     "grade": true,
     "grade_id": "cell-adf00262e70a7ddb",
     "locked": false,
     "points": 2,
     "schema_version": 1,
     "solution": true
    }
   },
   "source": [
    "YOUR ANSWER HERE $$E[x] = n\\theta$$\n",
    "$$V[x] = n\\theta(1-\\theta)$$\n",
    "\n",
    "\\begin{cases}3=n\\theta\\\\\n",
    "30=n\\theta(1-\\theta)\n",
    "\\end{cases}\n",
    "\n",
    "$$\\theta = \\frac{7}{10}$$\n",
    "$$n = 43$$\n",
    "because 45 is bigger than 43, so the alarm happen, and the probablity of seeing 45 or more patients is 0."
   ]
  },
  {
   "cell_type": "markdown",
   "metadata": {},
   "source": [
    "<h2>Question 4 - Maximum Likelihood Estimation of Parameters</h2>\n",
    "\n",
    "Suppose we are developing a new plant treatment which will (hopefully) improve crop yields. We have a dataset which contains weights for two candidate treatments, as well as a control group (which receives neither of the candidate treatments).\n",
    "\n",
    "For this question, we will use a dataset which is built into R - the PlantGrowth dataset.\n",
    "\n",
    "This dataset was originally released alongside the following paper:\n",
    "\n",
    "<i>Dobson, A. J. (1983) An Introduction to Statistical Modelling. London: Chapman and Hall.</i>\n",
    "\n"
   ]
  },
  {
   "cell_type": "code",
   "execution_count": 2,
   "metadata": {
    "deletable": false,
    "editable": false,
    "nbgrader": {
     "checksum": "9c38bc454d78c68cf6e33207aede927f",
     "grade": false,
     "grade_id": "cell-de2c0897f26b68c5",
     "locked": true,
     "schema_version": 1,
     "solution": false
    }
   },
   "outputs": [
    {
     "data": {
      "text/html": [
       "<ol class=list-inline>\n",
       "\t<li>4.17</li>\n",
       "\t<li>5.58</li>\n",
       "\t<li>5.18</li>\n",
       "\t<li>6.11</li>\n",
       "\t<li>4.5</li>\n",
       "\t<li>4.61</li>\n",
       "\t<li>5.17</li>\n",
       "\t<li>4.53</li>\n",
       "\t<li>5.33</li>\n",
       "\t<li>5.14</li>\n",
       "</ol>\n"
      ],
      "text/latex": [
       "\\begin{enumerate*}\n",
       "\\item 4.17\n",
       "\\item 5.58\n",
       "\\item 5.18\n",
       "\\item 6.11\n",
       "\\item 4.5\n",
       "\\item 4.61\n",
       "\\item 5.17\n",
       "\\item 4.53\n",
       "\\item 5.33\n",
       "\\item 5.14\n",
       "\\end{enumerate*}\n"
      ],
      "text/markdown": [
       "1. 4.17\n",
       "2. 5.58\n",
       "3. 5.18\n",
       "4. 6.11\n",
       "5. 4.5\n",
       "6. 4.61\n",
       "7. 5.17\n",
       "8. 4.53\n",
       "9. 5.33\n",
       "10. 5.14\n",
       "\n",
       "\n"
      ],
      "text/plain": [
       " [1] 4.17 5.58 5.18 6.11 4.50 4.61 5.17 4.53 5.33 5.14"
      ]
     },
     "metadata": {},
     "output_type": "display_data"
    },
    {
     "data": {
      "text/html": [
       "<ol class=list-inline>\n",
       "\t<li>4.81</li>\n",
       "\t<li>4.17</li>\n",
       "\t<li>4.41</li>\n",
       "\t<li>3.59</li>\n",
       "\t<li>5.87</li>\n",
       "\t<li>3.83</li>\n",
       "\t<li>6.03</li>\n",
       "\t<li>4.89</li>\n",
       "\t<li>4.32</li>\n",
       "\t<li>4.69</li>\n",
       "</ol>\n"
      ],
      "text/latex": [
       "\\begin{enumerate*}\n",
       "\\item 4.81\n",
       "\\item 4.17\n",
       "\\item 4.41\n",
       "\\item 3.59\n",
       "\\item 5.87\n",
       "\\item 3.83\n",
       "\\item 6.03\n",
       "\\item 4.89\n",
       "\\item 4.32\n",
       "\\item 4.69\n",
       "\\end{enumerate*}\n"
      ],
      "text/markdown": [
       "1. 4.81\n",
       "2. 4.17\n",
       "3. 4.41\n",
       "4. 3.59\n",
       "5. 5.87\n",
       "6. 3.83\n",
       "7. 6.03\n",
       "8. 4.89\n",
       "9. 4.32\n",
       "10. 4.69\n",
       "\n",
       "\n"
      ],
      "text/plain": [
       " [1] 4.81 4.17 4.41 3.59 5.87 3.83 6.03 4.89 4.32 4.69"
      ]
     },
     "metadata": {},
     "output_type": "display_data"
    },
    {
     "data": {
      "text/html": [
       "<ol class=list-inline>\n",
       "\t<li>6.31</li>\n",
       "\t<li>5.12</li>\n",
       "\t<li>5.54</li>\n",
       "\t<li>5.5</li>\n",
       "\t<li>5.37</li>\n",
       "\t<li>5.29</li>\n",
       "\t<li>4.92</li>\n",
       "\t<li>6.15</li>\n",
       "\t<li>5.8</li>\n",
       "\t<li>5.26</li>\n",
       "</ol>\n"
      ],
      "text/latex": [
       "\\begin{enumerate*}\n",
       "\\item 6.31\n",
       "\\item 5.12\n",
       "\\item 5.54\n",
       "\\item 5.5\n",
       "\\item 5.37\n",
       "\\item 5.29\n",
       "\\item 4.92\n",
       "\\item 6.15\n",
       "\\item 5.8\n",
       "\\item 5.26\n",
       "\\end{enumerate*}\n"
      ],
      "text/markdown": [
       "1. 6.31\n",
       "2. 5.12\n",
       "3. 5.54\n",
       "4. 5.5\n",
       "5. 5.37\n",
       "6. 5.29\n",
       "7. 4.92\n",
       "8. 6.15\n",
       "9. 5.8\n",
       "10. 5.26\n",
       "\n",
       "\n"
      ],
      "text/plain": [
       " [1] 6.31 5.12 5.54 5.50 5.37 5.29 4.92 6.15 5.80 5.26"
      ]
     },
     "metadata": {},
     "output_type": "display_data"
    }
   ],
   "source": [
    "# Important: Run this cell to load the datasets!\n",
    "\n",
    "# We are splitting the dataset into three groups, and we will find statistics for each group\n",
    "control.dataset <- PlantGrowth[PlantGrowth$group == \"ctrl\",\"weight\"]\n",
    "treatment1.dataset <- PlantGrowth[PlantGrowth$group == \"trt1\",\"weight\"]\n",
    "treatment2.dataset <- PlantGrowth[PlantGrowth$group == \"trt2\",\"weight\"]\n",
    "\n",
    "control.dataset\n",
    "treatment1.dataset\n",
    "treatment2.dataset"
   ]
  },
  {
   "cell_type": "markdown",
   "metadata": {
    "deletable": false,
    "editable": false,
    "nbgrader": {
     "checksum": "11e1d293fd0c70331d0a33b15feff6ec",
     "grade": false,
     "grade_id": "cell-338f862d2dc969b9",
     "locked": true,
     "schema_version": 1,
     "solution": false
    }
   },
   "source": [
    "<h2>Question 4.a</h2>\n",
    "\n",
    "Suppose we want to create models for the weight of each group. You think a normal distribution would be suitable for this purpose, but a colleague has suggested that you should use a binomial distribution instead. Someone else proposed using a uniform distribution instead.\n",
    "\n",
    "For both the binomial and uniform distributions, explain whether they would be a good choice (justifying your answer).\n",
    "\n",
    "Also justify why using the normal distribution is a good choice here."
   ]
  },
  {
   "cell_type": "markdown",
   "metadata": {
    "deletable": false,
    "nbgrader": {
     "checksum": "80e2a4cda109d06b1308542cebf29c0d",
     "grade": true,
     "grade_id": "cell-0acf1043fee76dbe",
     "locked": false,
     "points": 3,
     "schema_version": 1,
     "solution": true
    }
   },
   "source": [
    "* normal distribution: yes, because the weight is continue domain, and the data is no skewness.\n",
    "\n",
    "* binomial distribution: No, because the weight is continue domain, binomial distribution in order to calculate the date is decrete. The probablity only has two situations(sucess and failure)\n",
    "\n",
    "* uniform distributions: No, the probablity of each weight is not same, uniform distribution in order to calaulate the date, each date has the same probablity."
   ]
  },
  {
   "cell_type": "markdown",
   "metadata": {
    "deletable": false,
    "editable": false,
    "nbgrader": {
     "checksum": "70fbacd78326ad553cac7363f1a68846",
     "grade": false,
     "grade_id": "cell-d0fd49d6e2327dc3",
     "locked": true,
     "schema_version": 1,
     "solution": false
    }
   },
   "source": [
    "<h2>Question 4.b</h2>\n",
    "\n",
    "Suppose, rather than modelling the weights directly, we instead want to model the probability that a plant will grow to weigh over 6 units of weight, for each of the three treatments we are testing (treatments 1 and 2, and the control). Suggest a model that would be suitable for this purpose, and justify your choice.\n"
   ]
  },
  {
   "cell_type": "markdown",
   "metadata": {
    "deletable": false,
    "nbgrader": {
     "checksum": "4ad117c028a4907623c364864c02136a",
     "grade": true,
     "grade_id": "cell-0ef1ec18771ecab5",
     "locked": false,
     "points": 1,
     "schema_version": 1,
     "solution": true
    }
   },
   "source": [
    "We can use the binomial distribution, becasue we just wanna to know the weight of the plant whether bigger than 6 units of weight, there are just two probablity(bigger than or less than). the second reason is the data is decrete."
   ]
  },
  {
   "cell_type": "markdown",
   "metadata": {},
   "source": [
    "<h2>Question 4.c</h2>\n",
    "\n",
    "After considering our answers to questions 4.a and 4.b, we have decided to model the weights directly (i.e. we will use the model discussed in question 4.a, not 4.b). To do this, we will create three models: one for each of the three groups. We will use normal distributions to model each of the three groups, and then compare the estimated means of each group.\n",
    "\n",
    "We now have to decide how we will calculate our estimates of the mean ($\\mu$) and standard deviation ($\\sigma$) of each of our datasets. One approach is to use the maximum likelihood method, where we wish to maximize the likelihood of the data given the parameters $\\mu$ and $\\sigma$ (that is, we wish to find the values of $\\mu$ and $\\sigma$ which cause $P(x|\\mu, \\sigma)$ to be maximized). Note that maximizing something is the same as maximizing the log of that thing, because log (for any base $> 1$) is \"monotonically increasing\"- that is, if $a > b$, $\\log(a) > \\log(b)$. We're actually going to maximize the log-likelihood below.\n",
    "\n",
    "A colleague of yours seems to think that maximizing the log-likelihood is the same as minimizing the mean absolute error. Another colleague disagrees, saying that they are misremembering and the likelihood is the same as minimizing the mean squared error. Yet another colleague seems to believe that we minimize the negative log-likelihood by minimizing the log-cosh loss (since they both have the word \"log\" in them; you are not convinced by this argument).\n",
    "\n",
    "We are going to experiment with this using code, in the hope of finding the truth. We are going to use R's optimize() function to do this (look in R's documentation if you'd like to learn more about how optimize() works). The code using the optimize() function has already been provided, and the log_likelihood_fn is defined two cells down, right under the cell where you will write your code for this question. <b>Note that we are using the built-in R estimate for the standard deviation, and are only estimating the mean using our four different methods.</b>\n",
    "\n",
    "You will need to write functions to calculate the mean squared error (mse_fn), mean absolute error (mae_fn), and logcosh error (logcosh_fn). The code two cells down then uses R's optimize() function to calculate the value of $\\mu$ which maximizes (for log-likelihood) or minimizes (for mse, mae and logcosh) the error function being optimized. This code has been provided for you; you need to write three functions in the cell below. Each function takes three arguments:\n",
    " - mu, the value of the mean we are using to calculate our error\n",
    " - sigma, the value of the standard deviation we are using to calculate our error\n",
    " - x, a vector containing the data we are calculating the error on\n",
    "\n",
    "The three functions are:\n",
    "\n",
    "<h4>mse_fn</h4>\n",
    "Returns $\\frac{1}{n} \\sum_{p \\in x} (p - \\mu)^2$, i.e. the mean squared error\n",
    "\n",
    "<h4>mae_fn</h4>\n",
    "Returns $\\frac{1}{n} \\sum_{p \\in x} |p - \\mu|$, i.e. the mean absolute error\n",
    "\n",
    "<h4>logcosh_fn</h4>\n",
    "Returns $\\frac{1}{n} \\sum_{p \\in x} \\log(\\cosh(p - \\mu))$, i.e. the mean logcosh error\n",
    "\n",
    "\n",
    "For log_likelihood_fn, we used the following formula for a normal distribution (if you'd like to see a proof, you can do so at https://www.statlect.com/fundamentals-of-statistics/normal-distribution-maximum-likelihood):\n",
    "\n",
    "\\begin{align}\n",
    "L(x | \\mu, \\sigma) = -\\frac{n}{2} \\ln(2 \\pi) -\\frac{n}{2} \\ln(\\sigma^2) - \\frac{1}{2 \\sigma^2} \\sum_{p \\in x} (p - \\mu)^2\n",
    "\\end{align}\n",
    "\n",
    "Note that the notation $\\sum_{p \\in x}$ indicates that we are calculating the sum of the value inside the summation for every element $p$ in the set $x$ (i.e. we are summing together the calculated values for each of the elements in our dataset). E.g. if $x = (1, 2, 3)$, $\\sum_{p \\in x} (x-1)^2 = 0^2 + 1^2 + 2^2 = 5$ \n",
    "\n",
    "Once you've finished your functions, you should run the cell underneath them (the one containing the definition for log_likelihood_fn). This will print a table containing the estimates for the mean of each of our three datasets, using each of our four methods."
   ]
  },
  {
   "cell_type": "code",
   "execution_count": 19,
   "metadata": {
    "deletable": false,
    "nbgrader": {
     "checksum": "df8ca5b630a43296eddfea8d9995870e",
     "grade": false,
     "grade_id": "cell-ef6646719e2669aa",
     "locked": false,
     "schema_version": 1,
     "solution": true
    }
   },
   "outputs": [],
   "source": [
    "mse_fn<-function(x, sigma, mu){\n",
    "    n <- length(x)\n",
    "    total<-sum((x-mu)**2)\n",
    "    return (total/n)\n",
    "}\n",
    "\n",
    "mae_fn<-function(x, sigma, mu){\n",
    "    n <- length(x)\n",
    "    total <- sum(abs(x - mu))\n",
    "    result <- total/n\n",
    "    return(result)\n",
    "}\n",
    "\n",
    "logcosh_fn<-function(x,sigma, mu){\n",
    "    n <- length(x)\n",
    "    total <- sum(log(cosh(x - mu)))\n",
    "    result <- total/n\n",
    "    return(result)\n",
    "}"
   ]
  },
  {
   "cell_type": "code",
   "execution_count": 20,
   "metadata": {
    "deletable": false,
    "editable": false,
    "nbgrader": {
     "checksum": "4de3814c599ff64342ae0a0d123ef1e5",
     "grade": false,
     "grade_id": "cell-f22bf92cb02b1ac7",
     "locked": true,
     "schema_version": 1,
     "solution": false
    }
   },
   "outputs": [
    {
     "data": {
      "text/html": [
       "<table>\n",
       "<caption>A data.frame: 3 × 5</caption>\n",
       "<thead>\n",
       "\t<tr><th scope=col>label</th><th scope=col>likelihood</th><th scope=col>mae</th><th scope=col>mse</th><th scope=col>logcosh</th></tr>\n",
       "\t<tr><th scope=col>&lt;fct&gt;</th><th scope=col>&lt;dbl&gt;</th><th scope=col>&lt;dbl&gt;</th><th scope=col>&lt;dbl&gt;</th><th scope=col>&lt;dbl&gt;</th></tr>\n",
       "</thead>\n",
       "<tbody>\n",
       "\t<tr><td>control   </td><td>5.032</td><td>5.148585</td><td>5.032</td><td>5.022639</td></tr>\n",
       "\t<tr><td>treatment1</td><td>4.661</td><td>4.527325</td><td>4.661</td><td>4.606462</td></tr>\n",
       "\t<tr><td>treatment2</td><td>5.526</td><td>5.389061</td><td>5.526</td><td>5.513414</td></tr>\n",
       "</tbody>\n",
       "</table>\n"
      ],
      "text/latex": [
       "A data.frame: 3 × 5\n",
       "\\begin{tabular}{r|lllll}\n",
       " label & likelihood & mae & mse & logcosh\\\\\n",
       " <fct> & <dbl> & <dbl> & <dbl> & <dbl>\\\\\n",
       "\\hline\n",
       "\t control    & 5.032 & 5.148585 & 5.032 & 5.022639\\\\\n",
       "\t treatment1 & 4.661 & 4.527325 & 4.661 & 4.606462\\\\\n",
       "\t treatment2 & 5.526 & 5.389061 & 5.526 & 5.513414\\\\\n",
       "\\end{tabular}\n"
      ],
      "text/markdown": [
       "\n",
       "A data.frame: 3 × 5\n",
       "\n",
       "| label &lt;fct&gt; | likelihood &lt;dbl&gt; | mae &lt;dbl&gt; | mse &lt;dbl&gt; | logcosh &lt;dbl&gt; |\n",
       "|---|---|---|---|---|\n",
       "| control    | 5.032 | 5.148585 | 5.032 | 5.022639 |\n",
       "| treatment1 | 4.661 | 4.527325 | 4.661 | 4.606462 |\n",
       "| treatment2 | 5.526 | 5.389061 | 5.526 | 5.513414 |\n",
       "\n"
      ],
      "text/plain": [
       "  label      likelihood mae      mse   logcosh \n",
       "1 control    5.032      5.148585 5.032 5.022639\n",
       "2 treatment1 4.661      4.527325 4.661 4.606462\n",
       "3 treatment2 5.526      5.389061 5.526 5.513414"
      ]
     },
     "metadata": {},
     "output_type": "display_data"
    }
   ],
   "source": [
    "log_likelihood_fn <- function (mu, sigma, x) {\n",
    "    # You need to fill this function in!\n",
    "    n <- length(x)\n",
    "    term1 <- -n * log(2 * pi) / 2 \n",
    "    term2 <- -n * log(sigma * sigma) / 2\n",
    "    term3 <- -sum((x - mu)^2) / (2 * sigma * sigma)\n",
    "    \n",
    "    return (term1 + term2 + term3)\n",
    "}\n",
    "\n",
    "label <- c(\n",
    "    'control',\n",
    "    'treatment1',\n",
    "    'treatment2'\n",
    ")\n",
    "\n",
    "# Maximize the log likelihood function\n",
    "likelihood.control.mu <- optimize(f=log_likelihood_fn, interval=seq(-10, 10, 0.01), sigma=sd(control.dataset), x=control.dataset, maximum=TRUE)$maximum\n",
    "likelihood.treatment1.mu <- optimize(f=log_likelihood_fn, interval=seq(-10, 10, 0.01), sigma=sd(treatment1.dataset), x=treatment1.dataset, maximum=TRUE)$maximum\n",
    "likelihood.treatment2.mu <- optimize(f=log_likelihood_fn, interval=seq(-10, 10, 0.01), sigma=sd(treatment2.dataset), x=treatment2.dataset, maximum=TRUE)$maximum\n",
    "\n",
    "likelihood <- c(\n",
    "    likelihood.control.mu,\n",
    "    likelihood.treatment1.mu,\n",
    "    likelihood.treatment2.mu\n",
    ")\n",
    "\n",
    "# Maximize the mean squared error function\n",
    "mse.control.mu <- optimize(f=mse_fn, interval=seq(-10, 10, 0.01), sigma=sd(control.dataset), x=control.dataset, maximum=FALSE)$minimum\n",
    "mse.treatment1.mu <- optimize(f=mse_fn, interval=seq(-10, 10, 0.01), sigma=sd(treatment1.dataset), x=treatment1.dataset, maximum=FALSE)$minimum\n",
    "mse.treatment2.mu <- optimize(f=mse_fn, interval=seq(-10, 10, 0.01), sigma=sd(treatment2.dataset), x=treatment2.dataset, maximum=FALSE)$minimum\n",
    "\n",
    "mse <- c(\n",
    "    mse.control.mu,\n",
    "    mse.treatment1.mu,\n",
    "    mse.treatment2.mu\n",
    ")\n",
    "\n",
    "# Maximize the mean absolute error function\n",
    "mae.control.mu <- optimize(f=mae_fn, interval=seq(-10, 10, 0.01), sigma=sd(control.dataset), x=control.dataset, maximum=FALSE)$minimum\n",
    "mae.treatment1.mu <- optimize(f=mae_fn, interval=seq(-10, 10, 0.01), sigma=sd(treatment1.dataset), x=treatment1.dataset, maximum=FALSE)$minimum\n",
    "mae.treatment2.mu <- optimize(f=mae_fn, interval=seq(-10, 10, 0.01), sigma=sd(treatment2.dataset), x=treatment2.dataset, maximum=FALSE)$minimum\n",
    "\n",
    "mae <- c(\n",
    "    mae.control.mu,\n",
    "    mae.treatment1.mu,\n",
    "    mae.treatment2.mu\n",
    ")\n",
    "\n",
    "\n",
    "# Maximize the logcosh error function\n",
    "logcosh.control.mu <- optimize(f=logcosh_fn, interval=seq(-10, 10, 0.01), sigma=sd(control.dataset), x=control.dataset, maximum=FALSE)$minimum\n",
    "logcosh.treatment1.mu <- optimize(f=logcosh_fn, interval=seq(-10, 10, 0.01), sigma=sd(treatment1.dataset), x=treatment1.dataset, maximum=FALSE)$minimum\n",
    "logcosh.treatment2.mu <- optimize(f=logcosh_fn, interval=seq(-10, 10, 0.01), sigma=sd(treatment2.dataset), x=treatment2.dataset, maximum=FALSE)$minimum\n",
    "\n",
    "logcosh <- c(\n",
    "    logcosh.control.mu,\n",
    "    logcosh.treatment1.mu,\n",
    "    logcosh.treatment2.mu\n",
    ")\n",
    "\n",
    "df <- data.frame(label, likelihood, mae, mse, logcosh)\n",
    "df"
   ]
  },
  {
   "cell_type": "markdown",
   "metadata": {},
   "source": [
    "<h2>Question 4.d</h2>\n",
    "\n",
    "One of your colleagues in Question 4.c is correct; which one does it appear to be based on our calculations in the previous question? Prove this colleague correct using algebra (you only have to prove them correct; you don't have to disprove the other two).\n",
    "\n",
    "Note: Although this colleague is correct in this particular case, what they suggest is not always the case for every possible model; but it is true for the Normal distribution, which we are using here."
   ]
  },
  {
   "cell_type": "markdown",
   "metadata": {
    "deletable": false,
    "nbgrader": {
     "checksum": "88081d01b7c80ce1a15c2656dda97f25",
     "grade": true,
     "grade_id": "cell-202cd99103b422a1",
     "locked": false,
     "points": 2,
     "schema_version": 1,
     "solution": true
    }
   },
   "source": [
    "YOUR ANSWER HERE  \n",
    "\n",
    "the likelihood is the same as minimizing the mean squared error is correct\n",
    "\n",
    "At first find the partial derivation of this founction.\n",
    "$$L(x | \\mu, \\sigma) = -\\frac{n}{2} \\ln(2 \\pi) -\\frac{n}{2} \\ln(\\sigma^2) - \\frac{1}{2 \\sigma^2} \\sum_{p \\in x} (p - \\mu)^2$$\n",
    "$$ = \\frac{d}{d\\mu}(-\\frac{n}{2}ln(2\\pi)-\\frac{n}{2}ln(\\sigma^2)-\\frac{1}{2\\sigma^2}\\sum_{p \\in x}(p-\\mu)^2)$$\n",
    "$$ = \\frac{d}{d\\mu}(-\\frac{1}{2\\sigma^2}\\sum_{p \\in x}(p-\\mu)^2)$$\n",
    "$$ = \\sum_{p \\in x}(\\frac{d}{d\\mu}(-\\frac{1}{2\\sigma^2})\\times(p-\\mu)^2+(-\\frac{1}{2\\sigma^2})\\times\\frac{d}{d\\mu}(p-\\mu)^2)$$\n",
    "$$ = \\frac{1}{\\sigma^2}\\sum_{p \\in x}(p-\\mu)$$\n",
    "let this formula equal to 0\n",
    "$$\\frac{1}{\\sigma^2}\\sum_{p \\in x}(p-\\mu) = 0$$\n",
    "$$ \\sum_{p \\in x}(p-\\mu) = 0$$\n",
    "$$x\\mu=\\sum_{x \\in p}p$$\n",
    "$$\\mu = \\frac{1}{x}\\sum_{p \\in x}p$$\n",
    "find the derication of mse function\n",
    "$$\\frac{1}{n} \\sum_{p \\in x} (p - \\mu)^2$$\n",
    "$$=-\\frac{2}{n}\\sum_{p \\in x}(p-\\mu)$$\n",
    "and let them be zero\n",
    "$$\\sum_{p \\in x}(p-\\mu) = 0$$\n",
    "$$\\mu = \\frac{1}{x}\\sum_{p \\in x}p$$\n",
    "\n",
    "as we can see, the $\\mu$ of log_likelyhood is equal the$\\mu$ of mse"
   ]
  },
  {
   "cell_type": "markdown",
   "metadata": {},
   "source": [
    "<h2>Question 4.e</h2>\n",
    "\n",
    "Given your maximum likelihood estimates for the mean of each population (and keeping in mind that we have a very small number of samples for each group), which treatment appears to work best?\n",
    "\n",
    "Note: In later weeks we will learn how to use confidence intervals and hypothesis testing to more rigorously analyse the differences between the different groups, but for now we will just rely on the point estimates (which is not ideal and can lead to misleading results, but we will do this for now)."
   ]
  },
  {
   "cell_type": "markdown",
   "metadata": {
    "deletable": false,
    "nbgrader": {
     "checksum": "067cbaab94f7497f322cabfdeb1fcb34",
     "grade": true,
     "grade_id": "cell-be864b12fb4e9142",
     "locked": false,
     "points": 1,
     "schema_version": 1,
     "solution": true
    }
   },
   "source": [
    "YOUR ANSWER HERE\n",
    "\n",
    "the treatment is better, because it has the largest maximum likelihood. it means plant has more weight."
   ]
  },
  {
   "cell_type": "markdown",
   "metadata": {},
   "source": [
    "<h2>Question 5 - Central Limit Theorem</h2>\n",
    "\n",
    "Suppose our company is trialling a new production method for phone cases, based on 3D printing. 3D printing can a volatile process, and the company has decided to accept the fact that there will be a certain proportion of failures out of the total number of 3D prints.\n",
    "\n",
    "However, before committing to the new process, management would like to estimate the probability of failure by printing a number of phone cases. They have asked you how many cases they should print to ensure they have a reasonably good idea of the probability of failure.\n",
    "\n",
    "The engineers developing the new production method assure management that the probability of failure is somewhere between 1% and 20%, but they are unwilling to make any guarantees beyond this without testing the method first.\n",
    "\n"
   ]
  },
  {
   "cell_type": "markdown",
   "metadata": {
    "deletable": false,
    "editable": false,
    "nbgrader": {
     "checksum": "26f590ecfafb37741f7cb1f27708d094",
     "grade": false,
     "grade_id": "cell-55d31d68667341e3",
     "locked": true,
     "schema_version": 1,
     "solution": false
    }
   },
   "source": [
    "<h2>Question 5.a</h2>\n",
    "\n",
    "We will model this problem with a binomial distribution. Justify why the binomial distribution is a good choice for this problem."
   ]
  },
  {
   "cell_type": "markdown",
   "metadata": {
    "deletable": false,
    "nbgrader": {
     "checksum": "aa006c0ef9aa4c767659c25d452a35b9",
     "grade": true,
     "grade_id": "cell-591e24cf6e726222",
     "locked": false,
     "points": 1,
     "schema_version": 1,
     "solution": true
    }
   },
   "source": [
    "YOUR ANSWER HERE\n",
    "\n",
    "the data is not continue domain and the data is decret. There are just two probabality(success and failuer). "
   ]
  },
  {
   "cell_type": "markdown",
   "metadata": {},
   "source": [
    "<h2>Question 5.b</h2>\n",
    "\n",
    "Suppose that we are considering three potential failure probabilities:\n",
    "\n",
    "* $\\theta = 0.01$\n",
    "* $\\theta = 0.05$\n",
    "* $\\theta = 0.2$\n",
    "\n",
    "We also are considering three potential sizes for our test production run (i.e. the number of phone cases we will print in our test run):\n",
    "\n",
    "* $n = 50$\n",
    "* $n = 200$\n",
    "* $n = 800$\n",
    "\n",
    "For each combination of failure probability and number of cases printed, calculate the limiting distribution for the sample mean. You should calculate 9 limiting distributions in total\n",
    "\n",
    "<u>For this question, do this using written calculations (i.e. not using R) and with the Central Limit Theorem.</u>"
   ]
  },
  {
   "cell_type": "markdown",
   "metadata": {
    "deletable": false,
    "nbgrader": {
     "checksum": "28fa2551e916a6c5f9c43edbf3a38c55",
     "grade": true,
     "grade_id": "cell-3e99990907ceb3d7",
     "locked": false,
     "points": 3,
     "schema_version": 1,
     "solution": true
    }
   },
   "source": [
    "YOUR ANSWER HERE\n",
    "\n",
    "$$bin(\\theta, n) \\approx N(n\\theta,n\\theta(1-\\theta))$$\n",
    "\n",
    "when$\\theta = 0.01, n = 50$\n",
    "\n",
    "$$n\\times\\theta = 50\\times0.01 = 0.5$$\n",
    "$$n\\theta(1-\\theta) = 50\\times0.01\\times(1-0.01) = 0.495$$\n",
    "$$bin(0.01, 50) \\approx N(0.5, 0.495)$$\n",
    "\n",
    "when$\\theta = 0.01, n =200$\n",
    "\n",
    "$$n\\times\\theta=200\\times0.01 = 2$$\n",
    "$$n\\theta(1-\\theta)=200\\times0.01\\times(1-0.01) = 1.98$$\n",
    "$$bin(0.01, 200) \\approx N(2, 1.98)$$\n",
    "\n",
    "when$\\theta=0.01, n = 800$\n",
    "\n",
    "$$n\\times\\theta=800\\times0.01 = 8$$\n",
    "$$n\\theta(1-\\theta)=800\\times0.01\\times(1-0.01) = 7.92$$\n",
    "$$bin(0.01, 800)\\approx N(8, 7.92)$$\n",
    "\n",
    "when$\\theta=0.05, n = 50$\n",
    "\n",
    "$$n\\times\\theta=50\\times0.05 = 2.5$$\n",
    "$$n\\theta(1-\\theta)=50\\times0.05\\times(1-0.05) = 2.375$$\n",
    "$$bin(0.05, 50)\\approx N(2.5, 2.375)$$\n",
    "\n",
    "when$\\theta=0.05, n = 200$\n",
    "\n",
    "$$n\\times\\theta=200\\times0.05 = 10$$\n",
    "$$\\theta(1-\\theta)=200\\times0.05\\times(1-0.05) = 9.5$$\n",
    "$$bin(0.05, 200)\\approx N(10, 9.5)$$\n",
    "\n",
    "when$\\theta=0.05, n = 800$\n",
    "\n",
    "$$n\\times\\theta=800\\times0.05 = 40$$\n",
    "$$\\theta(1-\\theta)=800\\times0.05\\times(1-0.05) = 38$$\n",
    "$$bin(0.05, 800)\\approx N(40, 38)$$\n",
    "\n",
    "when$\\theta=0.2, n = 50$\n",
    "\n",
    "$$n\\times\\theta=50\\times0.2 = 10$$\n",
    "$$\\theta(1-\\theta)=50\\times0.2\\times(1-0.2) = 8$$\n",
    "$$bin(0.2, 50)\\approx N(10, 8)$$\n",
    "\n",
    "when$\\theta=0.2, n = 200$\n",
    "\n",
    "$$n\\times\\theta=200\\times0.2 = 40$$\n",
    "$$\\theta(1-\\theta)=200\\times0.2\\times(1-0.2) = 32$$\n",
    "$$bin(0.2, 200)\\approx N(40, 32)$$\n",
    "\n",
    "when$\\theta=0.2, n = 800$\n",
    "\n",
    "$$n\\times\\theta=800\\times0.2 = 160$$\n",
    "$$\\theta(1-\\theta)=800\\times0.2\\times(1-0.2) = 128$$\n",
    "$$bin(0.2, 800)\\approx N(160, 128)$$"
   ]
  },
  {
   "cell_type": "markdown",
   "metadata": {},
   "source": [
    "<h2>Question 5.c</h2>\n",
    "\n",
    "Verify the results you obtained by hand in the previous question using R code."
   ]
  },
  {
   "cell_type": "code",
   "execution_count": 9,
   "metadata": {
    "deletable": false,
    "nbgrader": {
     "checksum": "7582ce61bf2d0ec19d712203d8c91ceb",
     "grade": true,
     "grade_id": "cell-f7c7610aa38bc3d0",
     "locked": false,
     "points": 2,
     "schema_version": 1,
     "solution": true
    }
   },
   "outputs": [
    {
     "name": "stdout",
     "output_type": "stream",
     "text": [
      "[1] \"when n = 50, theta = 0.01, N(0.5,0.495)\"\n",
      "[1] \"when n = 200, theta = 0.01, N(2,1.98)\"\n",
      "[1] \"when n = 800, theta = 0.01, N(8,7.92)\"\n",
      "[1] \"when n = 50, theta = 0.05, N(2.5,2.375)\"\n",
      "[1] \"when n = 200, theta = 0.05, N(10,9.5)\"\n",
      "[1] \"when n = 800, theta = 0.05, N(40,38)\"\n",
      "[1] \"when n = 50, theta = 0.2, N(10,8)\"\n",
      "[1] \"when n = 200, theta = 0.2, N(40,32)\"\n",
      "[1] \"when n = 800, theta = 0.2, N(160,128)\"\n"
     ]
    }
   ],
   "source": [
    "mean<-function(n, theta){\n",
    "    return(n*theta)\n",
    "}\n",
    "\n",
    "variance<-function(n, theta){\n",
    "    return(n*theta*(1-theta))\n",
    "}\n",
    "\n",
    "for (theta in c(0.01,0.05,0.2)){\n",
    "    for (n in c(50,200,800)){\n",
    "        mean_1 <- mean(n,theta)\n",
    "        variance_1 <- variance(n,theta)\n",
    "        print(sprintf('when n = %s, theta = %s, N(%s,%s)', \n",
    "                      n, theta, mean_1, variance_1))\n",
    "    }\n",
    "}"
   ]
  },
  {
   "cell_type": "markdown",
   "metadata": {},
   "source": [
    "<h2>Question 5.d</h2>\n",
    "\n",
    "For each of the sample sizes and potential failure probabilities listed above, we now know the theoretical distribution by the Central Limit Theorem (we calculated this in Questions 6.b and 6.c). However, management is still not convinced and have asked us to develop a simulation which will experimentally demonstrate our calculations were correct.\n",
    "\n",
    "R has a built-in function called <i>rbinom</i>, which takes three arguments (the number of simulations you want to run, the number of trials per simulation, and the probability of success for each trial). Hint: you are allowed to use the rbinom function, although you don't have to.\n",
    "\n",
    "Write a function below, called simulate, which returns an R list containing the point estimates of the mean and standard deviation <u>of the limiting distribution for the mean</u> from 50,000 simulations. This function takes two parameters (n and theta) and returns the maximum likelihood estimate for the mean and standard deviation of the limiting distribution based purely on the generated sample, in the form of an R list.\n",
    "\n",
    "Your function should look like this:\n",
    "\n",
    "    simulate <- function(n, theta) {\n",
    "        # Your code here\n",
    "    }\n"
   ]
  },
  {
   "cell_type": "code",
   "execution_count": 5,
   "metadata": {
    "deletable": false,
    "nbgrader": {
     "checksum": "f56baa4d28a1d952ec89532b40f424aa",
     "grade": true,
     "grade_id": "cell-ca71708d82cb745c",
     "locked": false,
     "points": 3,
     "schema_version": 1,
     "solution": true
    }
   },
   "outputs": [],
   "source": [
    "simulate<-function(n,theta){\n",
    "    sample <- rbinom(50000, n, theta)\n",
    "    mean_2<-sum(sample)/50000\n",
    "    std_2<-(sum((sample - mean_2)**2)/(50000-1))**0.5\n",
    "    return(c(mean_2,std_2))\n",
    "}"
   ]
  },
  {
   "cell_type": "code",
   "execution_count": 6,
   "metadata": {
    "deletable": false,
    "editable": false,
    "nbgrader": {
     "checksum": "ae9f794ac1043ad13b68a31cf5270d48",
     "grade": false,
     "grade_id": "cell-1886e070d24f7042",
     "locked": true,
     "schema_version": 1,
     "solution": false
    }
   },
   "outputs": [
    {
     "name": "stdout",
     "output_type": "stream",
     "text": [
      "[1] \"theta = 0.01, n = 50\"\n",
      "[1] 0.493400 0.701289\n",
      "[1] \"theta = 0.01, n = 200\"\n",
      "[1] 1.99454 1.39911\n",
      "[1] \"theta = 0.01, n = 800\"\n",
      "[1] 7.995700 2.807689\n",
      "[1] \"theta = 0.05, n = 50\"\n",
      "[1] 2.497540 1.542531\n",
      "[1] \"theta = 0.05, n = 200\"\n",
      "[1] 9.998660 3.074093\n",
      "[1] \"theta = 0.05, n = 800\"\n",
      "[1] 39.966760  6.152652\n",
      "[1] \"theta = 0.2, n = 50\"\n",
      "[1] 9.990840 2.822374\n",
      "[1] \"theta = 0.2, n = 200\"\n",
      "[1] 40.055980  5.646582\n",
      "[1] \"theta = 0.2, n = 800\"\n",
      "[1] 160.03214  11.31433\n"
     ]
    }
   ],
   "source": [
    "for (theta in c(0.01, 0.05, 0.2)) {\n",
    "    for (n in c(50, 200, 800)) {\n",
    "        print(sprintf(\"theta = %s, n = %s\", theta, n))\n",
    "        print(simulate(n, theta))\n",
    "    }\n",
    "}"
   ]
  },
  {
   "cell_type": "markdown",
   "metadata": {},
   "source": [
    "<h2>Question 5.e</h2>\n",
    "\n",
    "We're presenting our findings to management; they have asked us to provide visualisations for our results. For each failure probability discussed above (0.01, 0.05 and 0.2) and for each potential sample size discussed above (50, 200, and 800), produce a histogram plot of the maximum likelihood estimates of the failure probability (calculated 50,000 times through 50,000 simulations).\n",
    "\n",
    "We have provided the loop which will call your function, but you have to implement the make.plot function itself. This function should look something like this:\n",
    "\n",
    "    make.plot <- function(n, theta) {\n",
    "        # Your code here\n",
    "    }\n",
    "    \n",
    "where n and theta correspond to the sample size and failure probability being simulated, respectively.\n",
    "\n",
    "You will need to call the hist() function in your make.plot function. Make sure to label your histograms (using the \"main\" parameter), and use 20 bins (by using the breaks parameter; set this to 20). Also use appropriate x-axis and y-axis labels (e.g. \"estimate of theta\" and \"frequency\", respectively).\n",
    "\n",
    "You will probably find it helpful to look at the documentation for the hist() function, and/or look at some examples. For this question, we'll leave it to you to work this out.\n",
    "\n",
    "You should produce 9 plots in total."
   ]
  },
  {
   "cell_type": "code",
   "execution_count": 7,
   "metadata": {
    "deletable": false,
    "nbgrader": {
     "checksum": "ff4613c25ebf8f1a9fbae79f39962ebd",
     "grade": true,
     "grade_id": "cell-17d12c60c857f38f",
     "locked": false,
     "points": 3,
     "schema_version": 1,
     "solution": true
    }
   },
   "outputs": [],
   "source": [
    "make.plot<-function(n,theta){\n",
    "    list_1<-c()\n",
    "    sample <- rbinom(50000, n, theta)\n",
    "    for (x in sample){\n",
    "        mle <- x/n\n",
    "        list_1<-c(list_1,mle)\n",
    "    }\n",
    "    hist(list_1, breaks=20, main = paste('n = ' ,n, ',theta =' ,theta),\n",
    "         xlab = 'estimate fo theta', ylab = 'frequency')\n",
    "}"
   ]
  },
  {
   "cell_type": "code",
   "execution_count": 8,
   "metadata": {
    "deletable": false,
    "editable": false,
    "nbgrader": {
     "checksum": "11b04e8de8b3578d58268fbb6b47e6c8",
     "grade": false,
     "grade_id": "cell-442aac61fec67ba9",
     "locked": true,
     "schema_version": 1,
     "solution": false
    }
   },
   "outputs": [
    {
     "data": {
      "image/png": "[encoded data removed]",
      "text/plain": [
       "Plot with title \"n =  800 ,theta = 0.2\""
      ]
     },
     "metadata": {},
     "output_type": "display_data"
    }
   ],
   "source": [
    "par(mfrow=c(3, 3))\n",
    "\n",
    "options(repr.plot.width=6, repr.plot.height=6)\n",
    "\n",
    "for (theta in c(0.01, 0.05, 0.2)) {\n",
    "    for (n in c(50, 200, 800)) {\n",
    "        make.plot(n, theta)\n",
    "    }\n",
    "}"
   ]
  },
  {
   "cell_type": "markdown",
   "metadata": {},
   "source": [
    "<h2>Question 5.f</h2>\n",
    "\n",
    "Management has asked us recommend how many tests they should run. Based on all the information we have computed, do you recommend 50, 200, 800, or even more tests than that? Justify your answer using relevant calculations and/or by referring to the above plots."
   ]
  },
  {
   "cell_type": "markdown",
   "metadata": {
    "deletable": false,
    "nbgrader": {
     "checksum": "9653d7e287f2117bb3dd7534d62744e4",
     "grade": true,
     "grade_id": "cell-ab1f434c1aee5b1a",
     "locked": false,
     "points": 1,
     "schema_version": 1,
     "solution": true
    }
   },
   "source": [
    "YOUR ANSWER HERE\n",
    "\n",
    "The greater the amount of test data, the better the results. I recommend 800, it clser to a normal distribution"
   ]
  }
 ],
 "metadata": {
  "kernelspec": {
   "display_name": "R",
   "language": "R",
   "name": "ir"
  },
  "language_info": {
   "codemirror_mode": "r",
   "file_extension": ".r",
   "mimetype": "text/x-r-source",
   "name": "R",
   "pygments_lexer": "r",
   "version": "3.6.1"
  }
 },
 "nbformat": 4,
 "nbformat_minor": 2
}
